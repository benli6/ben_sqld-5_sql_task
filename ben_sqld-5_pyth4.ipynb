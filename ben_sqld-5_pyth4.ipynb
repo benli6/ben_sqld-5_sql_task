{
 "cells": [
  {
   "cell_type": "code",
   "execution_count": 16,
   "metadata": {},
   "outputs": [],
   "source": [
    "import psycopg2\n",
    "import sqlalchemy as sq\n",
    "from sqlalchemy.orm import sessionmaker, declarative_base, relationship\n",
    "from configparser import ConfigParser\n",
    "from models import create_tables, Publisher, Book, Stock, Shop, Sale"
   ]
  },
  {
   "cell_type": "code",
   "execution_count": 17,
   "metadata": {},
   "outputs": [],
   "source": [
    "config = ConfigParser()\n",
    "config.read('config.ini')\n",
    "DSN = f\"postgresql://{config['db_task']['user']}:{config['db_task']['password']}@{config['db_task']['host']}:{config['db_task']['port']}/{config['db_task']['database']}\"\n",
    "engine = sq.create_engine(DSN)"
   ]
  },
  {
   "cell_type": "code",
   "execution_count": null,
   "metadata": {},
   "outputs": [],
   "source": [
    "create_tables(engine)\n",
    "\n",
    "Session = sessionmaker(bind=engine)\n",
    "session = Session()\n",
    "\n",
    "pub = input('Введите имя или идентификатор издателя')\n",
    "if pub.isdigit():\n",
    "    pub = int(pub)\n",
    "else:\n",
    "    for row in session.query(Publisher.id).filter(Publisher.name == pub):\n",
    "        pub = row.id\n",
    "\n",
    "for row in session.query(Book.title, Shop.name, Sale.price, Sale.count, Sale.date_sale ).\\\n",
    "    join(Publisher).join(Stock).join(Shop).join(Sale).filter(Publisher.id == pub)\n",
    "    print(f\"{row.title.ljust(40)} | {row.name.ljust(10)} | {str(row.price * row.count).rjust(10)} | {row.date_sale}\")"
   ]
  }
 ],
 "metadata": {
  "kernelspec": {
   "display_name": "Python 3.10.1 64-bit",
   "language": "python",
   "name": "python3"
  },
  "language_info": {
   "codemirror_mode": {
    "name": "ipython",
    "version": 3
   },
   "file_extension": ".py",
   "mimetype": "text/x-python",
   "name": "python",
   "nbconvert_exporter": "python",
   "pygments_lexer": "ipython3",
   "version": "3.10.1"
  },
  "orig_nbformat": 4,
  "vscode": {
   "interpreter": {
    "hash": "e192c477015e0c8e4427e2a21fcada2aaf43102079abc726728a52ed32b2764a"
   }
  }
 },
 "nbformat": 4,
 "nbformat_minor": 2
}
