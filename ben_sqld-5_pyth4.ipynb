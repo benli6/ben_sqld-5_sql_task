{
 "cells": [
  {
   "cell_type": "code",
   "execution_count": 6,
   "metadata": {},
   "outputs": [],
   "source": [
    "import psycopg2\n",
    "import sqlalchemy as sq\n",
    "from sqlalchemy.orm import sessionmaker, declarative_base, relationship\n",
    "from configparser import ConfigParser\n",
    "from models import create_tables, Publisher, Book, Stock, Shop, Sale"
   ]
  },
  {
   "cell_type": "code",
   "execution_count": 3,
   "metadata": {},
   "outputs": [],
   "source": [
    "config = ConfigParser()\n",
    "config.read('config.ini')\n",
    "DSN = f\"postgresql://{config['db_task']['user']}:{config['db_task']['password']}@{config['db_task']['host']}:{config['db_task']['port']}/{config['db_task']['database']}\"\n",
    "engine = sq.create_engine(DSN)"
   ]
  },
  {
   "cell_type": "code",
   "execution_count": 18,
   "metadata": {},
   "outputs": [],
   "source": [
    "create_tables(engine)\n",
    "\n",
    "conn = engine.connect()\n",
    "\n",
    "def find_sales(conn, pub):\n",
    "    conn.execute(\n",
    "        \"\"\"\n",
    "        select b.title, sh.name, s.price * s.count, s.date_sale\n",
    "        from publisher p\n",
    "        join book b on p.id = b.id_publisher\n",
    "        join stock st on st.id_book = b.id\n",
    "        join shop sh on sh.id = st.id_shop\n",
    "        join sale s on s.id_stock = st.id\n",
    "        where p.id = %s or p.name = %s\n",
    "        \"\"\", (pub, pub)\n",
    "        ).fetchall()"
   ]
  },
  {
   "cell_type": "code",
   "execution_count": null,
   "metadata": {},
   "outputs": [],
   "source": [
    "pub = input('Введите имя или идентификатор издателя')\n",
    "if pub.is_integer():\n",
    "    pub = int(pub)\n",
    "\n",
    "find_sales(conn, pub)"
   ]
  }
 ],
 "metadata": {
  "kernelspec": {
   "display_name": "Python 3.10.1 64-bit",
   "language": "python",
   "name": "python3"
  },
  "language_info": {
   "codemirror_mode": {
    "name": "ipython",
    "version": 3
   },
   "file_extension": ".py",
   "mimetype": "text/x-python",
   "name": "python",
   "nbconvert_exporter": "python",
   "pygments_lexer": "ipython3",
   "version": "3.10.1"
  },
  "orig_nbformat": 4,
  "vscode": {
   "interpreter": {
    "hash": "e192c477015e0c8e4427e2a21fcada2aaf43102079abc726728a52ed32b2764a"
   }
  }
 },
 "nbformat": 4,
 "nbformat_minor": 2
}
